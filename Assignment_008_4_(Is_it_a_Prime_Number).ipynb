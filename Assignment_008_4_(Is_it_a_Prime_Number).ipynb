{
  "nbformat": 4,
  "nbformat_minor": 0,
  "metadata": {
    "colab": {
      "name": "Assignment-008/4 (Is it a Prime Number).ipynb",
      "provenance": [],
      "authorship_tag": "ABX9TyOCJDruzEjNb1V/kBF3Fmca",
      "include_colab_link": true
    },
    "kernelspec": {
      "name": "python3",
      "display_name": "Python 3"
    },
    "language_info": {
      "name": "python"
    }
  },
  "cells": [
    {
      "cell_type": "markdown",
      "metadata": {
        "id": "view-in-github",
        "colab_type": "text"
      },
      "source": [
        "<a href=\"https://colab.research.google.com/github/C8239-Ali/python_project/blob/main/Assignment_008_4_(Is_it_a_Prime_Number).ipynb\" target=\"_parent\"><img src=\"https://colab.research.google.com/assets/colab-badge.svg\" alt=\"Open In Colab\"/></a>"
      ]
    },
    {
      "cell_type": "code",
      "metadata": {
        "id": "te8nULRbWaiO"
      },
      "source": [
        "number = int(input(\"Enter a number: \"))\n",
        "count = 0\n",
        "for i in range(1, number+1):\n",
        "    if number % i == 0 :\n",
        "        count +=1\n",
        "if (number==0) or (number ==1) or (count >=3):\n",
        "    print(number, \"isn't a prime number.\")\n",
        "else:\n",
        "    print(number, \"is a prime number\")"
      ],
      "execution_count": null,
      "outputs": []
    }
  ]
}