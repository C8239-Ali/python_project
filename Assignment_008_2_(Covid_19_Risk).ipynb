{
  "nbformat": 4,
  "nbformat_minor": 0,
  "metadata": {
    "colab": {
      "name": "Assignment-008/2 (Covid-19 Risk).ipynb",
      "provenance": [],
      "authorship_tag": "ABX9TyMJBWHf0/eWKOTJ7DAPB2DC",
      "include_colab_link": true
    },
    "kernelspec": {
      "name": "python3",
      "display_name": "Python 3"
    },
    "language_info": {
      "name": "python"
    }
  },
  "cells": [
    {
      "cell_type": "markdown",
      "metadata": {
        "id": "view-in-github",
        "colab_type": "text"
      },
      "source": [
        "<a href=\"https://colab.research.google.com/github/C8239-Ali/python_project/blob/main/Assignment_008_2_(Covid_19_Risk).ipynb\" target=\"_parent\"><img src=\"https://colab.research.google.com/assets/colab-badge.svg\" alt=\"Open In Colab\"/></a>"
      ]
    },
    {
      "cell_type": "code",
      "metadata": {
        "colab": {
          "base_uri": "https://localhost:8080/"
        },
        "id": "V-nfg5WQ-y5Q",
        "outputId": "9e818ef0-5f2a-40ba-ca7f-6d171f7ed868"
      },
      "source": [
        "age = input(\"Are you a cigarette addict older than 75 years old? Yes or No: \").capitalize()\n",
        "chronic = input(\"Do you have a severe chronic disease? Yes or No: \").capitalize()\n",
        "immune = input(\"Is your immune system too weak? Yes or No: \").capitalize()\n",
        "if age == \"Yes\" or chronic == \"Yes\" or immune == \"Yes\" :\n",
        "  print(\"You are in risky group\") \n",
        "else:\n",
        "  print(\"You are not in risky group\")\n",
        "  \n"
      ],
      "execution_count": 10,
      "outputs": [
        {
          "output_type": "stream",
          "text": [
            "Are you a cigarette addict older than 75 years old? Yes or No: no\n",
            "Do you have a severe chronic disease? Yes or No: yes\n",
            "Is your immune system too weak? Yes or No: no\n",
            "You are in risky group\n"
          ],
          "name": "stdout"
        }
      ]
    }
  ]
}