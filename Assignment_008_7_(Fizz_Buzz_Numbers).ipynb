{
  "nbformat": 4,
  "nbformat_minor": 0,
  "metadata": {
    "colab": {
      "name": "Assignment-008/7 (Fizz Buzz Numbers).ipynb",
      "provenance": [],
      "authorship_tag": "ABX9TyMx/KqdOCNVf99WhqlRfWxS",
      "include_colab_link": true
    },
    "kernelspec": {
      "name": "python3",
      "display_name": "Python 3"
    },
    "language_info": {
      "name": "python"
    }
  },
  "cells": [
    {
      "cell_type": "markdown",
      "metadata": {
        "id": "view-in-github",
        "colab_type": "text"
      },
      "source": [
        "<a href=\"https://colab.research.google.com/github/C8239-Ali/python_project/blob/main/Assignment_008_7_(Fizz_Buzz_Numbers).ipynb\" target=\"_parent\"><img src=\"https://colab.research.google.com/assets/colab-badge.svg\" alt=\"Open In Colab\"/></a>"
      ]
    },
    {
      "cell_type": "code",
      "metadata": {
        "id": "xSA5aKjomdgy"
      },
      "source": [
        "for number in range(1, 101):\n",
        "    if number % 3 == 0 and number % 5 == 0:\n",
        "        print('FizzBuzz')\n",
        "    elif number % 3 == 0:\n",
        "        print('Fizz')\n",
        "    elif number % 5 == 0:\n",
        "        print('Buzz')\n",
        "    else:\n",
        "        print(number)"
      ],
      "execution_count": null,
      "outputs": []
    }
  ]
}