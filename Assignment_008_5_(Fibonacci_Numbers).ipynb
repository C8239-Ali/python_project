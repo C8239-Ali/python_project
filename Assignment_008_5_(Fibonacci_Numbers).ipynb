{
  "nbformat": 4,
  "nbformat_minor": 0,
  "metadata": {
    "colab": {
      "name": "Assignment-008/5 (Fibonacci Numbers).ipynb",
      "provenance": [],
      "authorship_tag": "ABX9TyOjbfeF0C0BC5BeWZgalJAK",
      "include_colab_link": true
    },
    "kernelspec": {
      "name": "python3",
      "display_name": "Python 3"
    },
    "language_info": {
      "name": "python"
    }
  },
  "cells": [
    {
      "cell_type": "markdown",
      "metadata": {
        "id": "view-in-github",
        "colab_type": "text"
      },
      "source": [
        "<a href=\"https://colab.research.google.com/github/C8239-Ali/python_project/blob/main/Assignment_008_5_(Fibonacci_Numbers).ipynb\" target=\"_parent\"><img src=\"https://colab.research.google.com/assets/colab-badge.svg\" alt=\"Open In Colab\"/></a>"
      ]
    },
    {
      "cell_type": "code",
      "metadata": {
        "id": "i6X5Tiva0zdN"
      },
      "source": [
        "fib = [1, 1]\n",
        "for i in range(100) :\n",
        "  fib.append(fib[i]+fib[i+1])\n",
        "  if max(fib) == 55 :\n",
        "    break\n",
        "print(fib)"
      ],
      "execution_count": null,
      "outputs": []
    }
  ]
}