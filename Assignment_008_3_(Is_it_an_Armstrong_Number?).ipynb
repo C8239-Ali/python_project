{
  "nbformat": 4,
  "nbformat_minor": 0,
  "metadata": {
    "colab": {
      "name": " Assignment-008/3 (Is it an Armstrong Number?).ipynb",
      "provenance": [],
      "authorship_tag": "ABX9TyP+RsexT3IEK8BIPD0M3Tns",
      "include_colab_link": true
    },
    "kernelspec": {
      "name": "python3",
      "display_name": "Python 3"
    },
    "language_info": {
      "name": "python"
    }
  },
  "cells": [
    {
      "cell_type": "markdown",
      "metadata": {
        "id": "view-in-github",
        "colab_type": "text"
      },
      "source": [
        "<a href=\"https://colab.research.google.com/github/C8239-Ali/python_project/blob/main/Assignment_008_3_(Is_it_an_Armstrong_Number%3F).ipynb\" target=\"_parent\"><img src=\"https://colab.research.google.com/assets/colab-badge.svg\" alt=\"Open In Colab\"/></a>"
      ]
    },
    {
      "cell_type": "code",
      "metadata": {
        "id": "EBKH6YGUqJ3v"
      },
      "source": [
        "number = input(\"Please enter a positive number: \").strip()\n",
        "while number.isnumeric() == False :\n",
        "  print(\"It is an invalid entry. Don't use non-numeric, float, or negative values!\")\n",
        "  number = input(\"Please enter a positive number: \").strip()\n",
        "sum = 0\n",
        "for i in number :\n",
        "  sum += int(i) ** len(number) \n",
        "if sum == int(number) :\n",
        "  print(number, \"is an Armstrong Number\")\n",
        "else :\n",
        "  print(number, \"is not an Armstrong Number\")"
      ],
      "execution_count": null,
      "outputs": []
    }
  ]
}