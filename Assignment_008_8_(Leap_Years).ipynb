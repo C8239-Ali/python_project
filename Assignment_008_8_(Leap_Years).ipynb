{
  "nbformat": 4,
  "nbformat_minor": 0,
  "metadata": {
    "colab": {
      "name": "Assignment-008/8 (Leap Years).ipynb",
      "provenance": [],
      "authorship_tag": "ABX9TyPhT7u7AjhXlkBz4Zry1SAd",
      "include_colab_link": true
    },
    "kernelspec": {
      "name": "python3",
      "display_name": "Python 3"
    },
    "language_info": {
      "name": "python"
    }
  },
  "cells": [
    {
      "cell_type": "markdown",
      "metadata": {
        "id": "view-in-github",
        "colab_type": "text"
      },
      "source": [
        "<a href=\"https://colab.research.google.com/github/C8239-Ali/python_project/blob/main/Assignment_008_8_(Leap_Years).ipynb\" target=\"_parent\"><img src=\"https://colab.research.google.com/assets/colab-badge.svg\" alt=\"Open In Colab\"/></a>"
      ]
    },
    {
      "cell_type": "code",
      "metadata": {
        "id": "ucMjJdJf-PMj"
      },
      "source": [
        "year = int (input ('Enter a year (4 digit) : '))\n",
        "if year % 4 == 0 and year % 100 == 0:\n",
        "    if year % 400 == 0:\n",
        "        print(f\"{year} is leap year.\")\n",
        "    else:\n",
        "        print(f\"{year} is NOT leap year. \")\n",
        "elif year % 4 == 0:\n",
        "    print(f\"{year} is leap year.\")\n",
        "else:\n",
        "    print(f\"{year} is NOT leap year. \")"
      ],
      "execution_count": null,
      "outputs": []
    }
  ]
}