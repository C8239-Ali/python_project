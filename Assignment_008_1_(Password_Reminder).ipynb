{
  "nbformat": 4,
  "nbformat_minor": 0,
  "metadata": {
    "colab": {
      "name": "Assignment-008/1 (Password Reminder).ipynb",
      "provenance": [],
      "authorship_tag": "ABX9TyPdmV5o/9bgcvapFK1iasRJ",
      "include_colab_link": true
    },
    "kernelspec": {
      "name": "python3",
      "display_name": "Python 3"
    },
    "language_info": {
      "name": "python"
    }
  },
  "cells": [
    {
      "cell_type": "markdown",
      "metadata": {
        "id": "view-in-github",
        "colab_type": "text"
      },
      "source": [
        "<a href=\"https://colab.research.google.com/github/C8239-Ali/python_project/blob/main/Assignment_008_1_(Password_Reminder).ipynb\" target=\"_parent\"><img src=\"https://colab.research.google.com/assets/colab-badge.svg\" alt=\"Open In Colab\"/></a>"
      ]
    },
    {
      "cell_type": "code",
      "metadata": {
        "id": "bakA2qvggY26"
      },
      "source": [
        "name_1 = str(input(\"Please enter your name: \")).capitalize()\n",
        "name_2 = \"Ali\"\n",
        "\n",
        "if name_1 == name_2 :\n",
        "  print(\"Hello, Ali! The password is : W@12\")\n",
        "else :\n",
        "  print(\"Hello, {}! See you later.\".format(name_1))"
      ],
      "execution_count": null,
      "outputs": []
    }
  ]
}